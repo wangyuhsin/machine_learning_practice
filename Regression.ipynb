{
 "cells": [
  {
   "cell_type": "markdown",
   "metadata": {},
   "source": [
    "# Linear Regression"
   ]
  },
  {
   "cell_type": "code",
   "execution_count": 3,
   "metadata": {},
   "outputs": [],
   "source": [
    "import matplotlib.pyplot as plt\n",
    "import numpy as np\n",
    "from sklearn import datasets, linear_model\n",
    "from sklearn.metrics import mean_squared_error, r2_score\n",
    "from sklearn.model_selection import train_test_split"
   ]
  },
  {
   "cell_type": "code",
   "execution_count": 11,
   "metadata": {},
   "outputs": [
    {
     "name": "stdout",
     "output_type": "stream",
     "text": [
      "Mean squared error: 2505.5116783322537\n",
      "Variance score: 0.4985497321694289\n"
     ]
    }
   ],
   "source": [
    "# load the diabetes dataset\n",
    "diabetes = datasets.load_diabetes()\n",
    "diabetes_x = diabetes.data\n",
    "diabetes_y = diabetes.target\n",
    "\n",
    "# train_test_split\n",
    "diabetes_x_train, diabetes_x_test, diabetes_y_train, diabetes_y_test = train_test_split(diabetes_x, diabetes_y, test_size=0.2)\n",
    "\n",
    "# build linear regression model\n",
    "model = linear_model.LinearRegression()\n",
    "# train the model using the training sets\n",
    "model.fit(diabetes_x_train, diabetes_y_train)\n",
    "# 把測試資料丟進模型predict y\n",
    "diabetes_y_pred = model.predict(diabetes_x_test)\n",
    "\n",
    "# mean squared error\n",
    "print(f'Mean squared error: {mean_squared_error(diabetes_y_test, diabetes_y_pred)}')\n",
    "# r2 score\n",
    "print(f'Variance score: {r2_score(diabetes_y_test, diabetes_y_pred)}')"
   ]
  },
  {
   "cell_type": "markdown",
   "metadata": {},
   "source": [
    "# Polynomial Regression"
   ]
  },
  {
   "cell_type": "code",
   "execution_count": 11,
   "metadata": {},
   "outputs": [],
   "source": [
    "import numpy as np\n",
    "import pandas as pd\n",
    "from sklearn.linear_model import Ridge\n",
    "from sklearn.preprocessing import PolynomialFeatures\n",
    "from sklearn.pipeline import make_pipeline\n",
    "from sklearn import preprocessing, linear_model"
   ]
  },
  {
   "cell_type": "code",
   "execution_count": 12,
   "metadata": {},
   "outputs": [
    {
     "name": "stdout",
     "output_type": "stream",
     "text": [
      "Mean squared error: 351.47955280298993\n",
      "Variance score: 0.9951679420996745\n"
     ]
    }
   ],
   "source": [
    "def f(x):\n",
    "    return x**3-x*2+3\n",
    "\n",
    "# creating 100 data\n",
    "X = np.linspace(0,10,100)\n",
    "np.random.shuffle(X)\n",
    "X = X.reshape(100,1)\n",
    "y = f(X)\n",
    "\n",
    "poly = PolynomialFeatures(degree=2).fit(X)\n",
    "X_poly = poly.transform(X)\n",
    "\n",
    "# train-test split\n",
    "x_train, x_test, y_train, y_test = train_test_split(X_poly, y, test_size=0.3, random_state=1)\n",
    "\n",
    "# Training data normalization\n",
    "scaler = preprocessing.StandardScaler().fit(x_train)\n",
    "x_train = scaler.transform(x_train)\n",
    "\n",
    "# build model\n",
    "model = linear_model.LinearRegression()\n",
    "model.fit(x_train, y_train)\n",
    "\n",
    "# Testing data normalization\n",
    "x_test = scaler.transform(x_test)\n",
    "\n",
    "# predict y\n",
    "y_pred = model.predict(x_test)\n",
    "\n",
    "print(f'Mean squared error: {mean_squared_error(y_test, y_pred)}')\n",
    "print(f'Variance score: {r2_score(y_test, y_pred)}')"
   ]
  },
  {
   "cell_type": "markdown",
   "metadata": {},
   "source": [
    "# Logistic Regression"
   ]
  },
  {
   "cell_type": "code",
   "execution_count": 5,
   "metadata": {},
   "outputs": [],
   "source": [
    "import numpy as np\n",
    "from sklearn.linear_model import LogisticRegression\n",
    "from sklearn import datasets, preprocessing\n",
    "from sklearn.model_selection import train_test_split"
   ]
  },
  {
   "cell_type": "code",
   "execution_count": 8,
   "metadata": {},
   "outputs": [
    {
     "name": "stdout",
     "output_type": "stream",
     "text": [
      "Accuracy: 0.9555555555555556\n"
     ]
    }
   ],
   "source": [
    "iris = datasets.load_iris()\n",
    "x = iris.data\n",
    "y = iris.target\n",
    "\n",
    "# train-test split\n",
    "x_train,x_test,y_train,y_test=train_test_split(x, y, test_size=0.3, random_state=1)\n",
    "\n",
    "# Training data normalization\n",
    "scaler = preprocessing.StandardScaler().fit(x_train)\n",
    "x_train = scaler.transform(x_train)\n",
    "\n",
    "# build model\n",
    "model = LogisticRegression()\n",
    "model.fit(x_train, y_train)\n",
    "\n",
    "# Testing data normalization\n",
    "x_test = scaler.transform(x_test)\n",
    "\n",
    "# predict y\n",
    "y_pred = model.predict(x_test)\n",
    "\n",
    "# model直接計算y_pred的正確率\n",
    "# accuracy = model.score(x_test, y_test)\n",
    "\n",
    "from sklearn.metrics import mean_squared_error, r2_score, accuracy_score, confusion_matrix\n",
    "accuracy = accuracy_score(y_test, y_pred)\n",
    "\n",
    "print(f'Accuracy: {accuracy}')"
   ]
  },
  {
   "cell_type": "code",
   "execution_count": null,
   "metadata": {},
   "outputs": [],
   "source": []
  }
 ],
 "metadata": {
  "kernelspec": {
   "display_name": "Python 3",
   "language": "python",
   "name": "python3"
  },
  "language_info": {
   "codemirror_mode": {
    "name": "ipython",
    "version": 3
   },
   "file_extension": ".py",
   "mimetype": "text/x-python",
   "name": "python",
   "nbconvert_exporter": "python",
   "pygments_lexer": "ipython3",
   "version": "3.7.3"
  }
 },
 "nbformat": 4,
 "nbformat_minor": 4
}
