{
 "cells": [
  {
   "cell_type": "markdown",
   "metadata": {},
   "source": [
    "# K-Nearest Neighbor"
   ]
  },
  {
   "cell_type": "code",
   "execution_count": 1,
   "metadata": {},
   "outputs": [],
   "source": [
    "import numpy as np\n",
    "from sklearn import neighbors, datasets, preprocessing\n",
    "from sklearn.model_selection import train_test_split\n",
    "from sklearn.metrics import accuracy_score, confusion_matrix"
   ]
  },
  {
   "cell_type": "code",
   "execution_count": 2,
   "metadata": {},
   "outputs": [
    {
     "name": "stdout",
     "output_type": "stream",
     "text": [
      "number of correct samples: 23\n",
      "accuracy: 0.7666666666666667\n",
      "confusion matrix: \n",
      "[[ 8  0  0]\n",
      " [ 0  4  2]\n",
      " [ 0  5 11]]\n"
     ]
    }
   ],
   "source": [
    "iris = datasets.load_iris()\n",
    "# take the first two features\n",
    "x = iris.data[:, :2]\n",
    "y = iris.target\n",
    "\n",
    "# train-test-split\n",
    "x_train, x_test, y_train, y_test = train_test_split(x, y, test_size=0.2)\n",
    "\n",
    "# training data normalization\n",
    "scaler = preprocessing.StandardScaler().fit(x_train)\n",
    "x_train = scaler.transform(x_train)\n",
    "\n",
    "# build model\n",
    "model = neighbors.KNeighborsClassifier(n_neighbors=3)\n",
    "model.fit(x_train, y_train)\n",
    "\n",
    "# testing data normalization\n",
    "x_test = scaler.transform(x_test)\n",
    "\n",
    "# predict y\n",
    "y_pred = model.predict(x_test)\n",
    "\n",
    "# evaluate\n",
    "accuracy = accuracy_score(y_test, y_pred)\n",
    "num_correct_samples = accuracy_score(y_test, y_pred, normalize=False)\n",
    "con_matrix = confusion_matrix(y_test, y_pred)\n",
    "\n",
    "print(f'number of correct samples: {num_correct_samples}')\n",
    "print(f'accuracy: {accuracy}')\n",
    "print(f'confusion matrix: \\n{con_matrix}')"
   ]
  },
  {
   "cell_type": "markdown",
   "metadata": {},
   "source": [
    "# Decision Tree (CART)"
   ]
  },
  {
   "cell_type": "code",
   "execution_count": 3,
   "metadata": {},
   "outputs": [],
   "source": [
    "import numpy as np\n",
    "from sklearn.model_selection import train_test_split\n",
    "from sklearn.metrics import accuracy_score, confusion_matrix\n",
    "from sklearn.tree import DecisionTreeClassifier\n",
    "from sklearn import preprocessing, datasets, tree\n",
    "import graphviz\n",
    "\n",
    "import os\n",
    "os.environ[\"PATH\"] += os.pathsep + '/Users/yuhsinwang/Desktop/III/Machine Learning/practice 2'"
   ]
  },
  {
   "cell_type": "code",
   "execution_count": 4,
   "metadata": {
    "scrolled": true
   },
   "outputs": [
    {
     "name": "stdout",
     "output_type": "stream",
     "text": [
      "number of correct samples: 27\n",
      "accuracy: 0.9\n",
      "con_matrix: \n",
      "[[11  0  0]\n",
      " [ 0 13  3]\n",
      " [ 0  0  3]]\n"
     ]
    }
   ],
   "source": [
    "iris = datasets.load_iris()\n",
    "x = iris.data\n",
    "y = iris.target\n",
    "\n",
    "x_train, x_test, y_train, y_test = train_test_split(x, y, test_size=0.2)\n",
    "\n",
    "scaler = preprocessing.StandardScaler().fit(x_train)\n",
    "x_train = scaler.transform(x_train)\n",
    "\n",
    "# pre-pruning: 建議設定 max_depth (預設為None)\n",
    "model = DecisionTreeClassifier(max_depth=3)\n",
    "model.fit(x_train, y_train)\n",
    "\n",
    "x_test = scaler.transform(x_test)\n",
    "y_pred = model.predict(x_test)\n",
    "\n",
    "accuracy = accuracy_score(y_test, y_pred)\n",
    "num_correct_samples = accuracy_score(y_test, y_pred, normalize=False)\n",
    "con_matrix = confusion_matrix(y_test, y_pred)\n",
    "\n",
    "print(f'number of correct samples: {num_correct_samples}')\n",
    "print(f'accuracy: {accuracy}')\n",
    "print(f'con_matrix: \\n{con_matrix}')\n",
    "\n",
    "# output tree structure\n",
    "# dot_data = tree.export_graphviz(model)\n",
    "# graph = graphviz.Source(dot_data)\n",
    "# graph.render('iris')"
   ]
  },
  {
   "cell_type": "code",
   "execution_count": null,
   "metadata": {},
   "outputs": [],
   "source": []
  }
 ],
 "metadata": {
  "kernelspec": {
   "display_name": "Python 3",
   "language": "python",
   "name": "python3"
  },
  "language_info": {
   "codemirror_mode": {
    "name": "ipython",
    "version": 3
   },
   "file_extension": ".py",
   "mimetype": "text/x-python",
   "name": "python",
   "nbconvert_exporter": "python",
   "pygments_lexer": "ipython3",
   "version": "3.7.3"
  }
 },
 "nbformat": 4,
 "nbformat_minor": 4
}
